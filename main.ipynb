{
 "cells": [
  {
   "cell_type": "code",
   "execution_count": 61,
   "metadata": {},
   "outputs": [],
   "source": [
    "import requests\n",
    "import json\n",
    "from bs4 import BeautifulSoup\n",
    "from selenium import webdriver\n",
    "import time\n",
    "import re\n",
    "import pandas as pd\n",
    "\n",
    "# Going through the example provided in:\n",
    "# https://brightdata.com/blog/how-tos/web-scraping-with-python\n",
    "\n",
    "headers = {\n",
    "    'User-Agent': 'Mozilla/5.0 (Windows NT 10.0; Win64; x64) AppleWebKit/537.36 (KHTML, like Gecko) Chrome/107.0.0.0 Safari/537.36'\n",
    "}"
   ]
  },
  {
   "cell_type": "code",
   "execution_count": 62,
   "metadata": {},
   "outputs": [],
   "source": [
    "browser = webdriver.Firefox()\n",
    "url = 'https://cs.deals/fi/market/csgo/?sort=discount&sort_desc=1'\n",
    "browser.get(url)\n",
    "browser.implicitly_wait(0.5)\n",
    "time.sleep(10)\n",
    "html = browser.page_source\n",
    "soup = BeautifulSoup(html, features=\"html.parser\")\n",
    "courts_list = soup.find_all(\"div\", class_ = \"item csgo\")\n",
    "#print(courts_list)"
   ]
  },
  {
   "cell_type": "code",
   "execution_count": null,
   "metadata": {},
   "outputs": [
    {
     "name": "stdout",
     "output_type": "stream",
     "text": [
      "['StatTrak™ SG 553 | Danger Close (Field-Tested)', 0.11, -35.29]\n",
      "['Revolution Case', 0.28, -33.33]\n",
      "['Chroma 3 Case', 1.54, -30.0]\n",
      "['★ Huntsman Knife | Autotronic (Field-Tested)', 183.34, -26.64]\n",
      "['Kilowatt Case', 1.68, -25.0]\n",
      "['Desert Eagle | Conspiracy (Factory New)', 8.0, -23.59]\n",
      "['Kilowatt Case', 1.71, -23.66]\n",
      "['StatTrak™ M4A4 | Griffin (Field-Tested)', 3.5, -23.41]\n",
      "['P250 | Verdigris (Minimal Wear)', 0.31, -20.51]\n",
      "['★ Bayonet | Freehand (Field-Tested)', 276.22, -21.59]\n",
      "['★ Stiletto Knife | Urban Masked (Well-Worn)', 175.76, -21.52]\n",
      "['AK-47 | Neon Revolution (Field-Tested)', 13.47, -21.46]\n",
      "['AWP | Medusa (Minimal Wear)', 2574.15, -20.81]\n",
      "['AK-47 | Legion of Anubis (Field-Tested)', 6.0, -20.74]\n",
      "['Glock-18 | Weasel (Battle-Scarred)', 0.28, -20.0]\n",
      "['AWP | Asiimov (Field-Tested)', 115.75, -20.47]\n",
      "['StatTrak™ AWP | Asiimov (Battle-Scarred)', 106.97, -20.23]\n",
      "['★ StatTrak™ Huntsman Knife | Lore (Field-Tested)', 210.0, -20.17]\n",
      "['AWP | Asiimov (Well-Worn)', 88.21, -19.92]\n",
      "['AK-47 | Bloodsport (Field-Tested)', 91.98, -18.39]\n",
      "['★ Navaja Knife | Night Stripe (Field-Tested)', 73.16, -17.58]\n",
      "['London 2018 Returning Challengers Autograph Capsule', 9.79, -16.82]\n",
      "['★ StatTrak™ Navaja Knife | Stained (Minimal Wear)', 110.0, -16.23]\n",
      "['★ Broken Fang Gloves | Unhinged (Field-Tested)', 72.98, -14.55]\n",
      "['StatTrak™ USP-S | Jawbreaker (Field-Tested)', 28.42, -12.9]\n",
      "['Boston 2018 Returning Challengers Autograph Capsule', 12.99, -12.35]\n",
      "['USP-S | Cyrex (Minimal Wear)', 2.0, -8.26]\n",
      "['Paris 2023 Challengers Sticker Capsule', 0.2, -4.76]\n",
      "['M4A1-S | Black Lotus (Field-Tested)', 23.24, -2.52]\n",
      "['AWP | Chrome Cannon (Minimal Wear)', 130.0, -1.17]\n"
     ]
    }
   ],
   "source": [
    "# Create a list of 100 first items ordered by discount\n",
    "# [name, price, discount]\n",
    "complete_list = []\n",
    "str_courts_list = str(courts_list)\n",
    "\n",
    "# Add item discounts to the list\n",
    "discounts_list = re.findall(\"\\\"discount\\\">(.*?)%</span>\", str_courts_list)\n",
    "discounts_list_rdy = []\n",
    "for discount in discounts_list:\n",
    "    if discount != \"?\":\n",
    "        i_float = float(discount) # Discounts are needed in float\n",
    "        discounts_list_rdy.append(i_float)\n",
    "\n",
    "# Add item prices to the list\n",
    "prices_list = re.findall(\"(price\\\">|small\\\">)(.*?)€\", str_courts_list)\n",
    "prices_list_rdy = []\n",
    "for j,prices in prices_list:\n",
    "    prices_changed = prices.replace(\",\",\"\")\n",
    "    prices_changed2 = prices_changed.replace(\" \", \"\")\n",
    "    prices_list_rdy.append(float(prices_changed2)) # Prices are also needed in float\n",
    "\n",
    "# Add item names to the list\n",
    "names_list_rdy = re.findall(\"<img alt=\\\"(.*?)\\\"\", str_courts_list)\n",
    "for name in names_list_rdy:\n",
    "    if name == \"CSGO\":\n",
    "        names_list_rdy.remove(name)\n",
    "    elif name == \"sticker\":\n",
    "        names_list_rdy.remove(name)\n",
    "\n",
    "# Combine all lists\n",
    "for row in range(len(discounts_list_rdy)):\n",
    "    complete_list.append([names_list_rdy[row], prices_list_rdy[row], discounts_list_rdy[row]])\n",
    "\n",
    "for item in complete_list:\n",
    "    print(item)\n"
   ]
  },
  {
   "cell_type": "code",
   "execution_count": null,
   "metadata": {},
   "outputs": [],
   "source": [
    "# Categorize the interesting items\n",
    "interesting_list = []\n",
    "for item in complete_list:\n",
    "    if item[1] > 5 and item[2] <= -30: # Interested in high enough price and low enough discount\n",
    "        interesting_list.append(item)\n",
    "\n",
    "for i in interesting_list:\n",
    "    print(i)\n",
    "\n"
   ]
  }
 ],
 "metadata": {
  "kernelspec": {
   "display_name": "Python 3",
   "language": "python",
   "name": "python3"
  },
  "language_info": {
   "codemirror_mode": {
    "name": "ipython",
    "version": 3
   },
   "file_extension": ".py",
   "mimetype": "text/x-python",
   "name": "python",
   "nbconvert_exporter": "python",
   "pygments_lexer": "ipython3",
   "version": "3.11.8"
  }
 },
 "nbformat": 4,
 "nbformat_minor": 2
}
