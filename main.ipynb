{
 "cells": [
  {
   "cell_type": "code",
   "execution_count": 2,
   "metadata": {},
   "outputs": [],
   "source": [
    "import requests\n",
    "import json\n",
    "from bs4 import BeautifulSoup\n",
    "from selenium import webdriver\n",
    "import time\n",
    "import re\n",
    "import pandas as pd\n",
    "from api_key import api_key, chat_id\n",
    "\n",
    "# Going through the example provided in:\n",
    "# https://brightdata.com/blog/how-tos/web-scraping-with-python\n",
    "\n",
    "headers = {\n",
    "    'User-Agent': 'Mozilla/5.0 (Windows NT 10.0; Win64; x64) AppleWebKit/537.36 (KHTML, like Gecko) Chrome/107.0.0.0 Safari/537.36'\n",
    "}"
   ]
  },
  {
   "cell_type": "code",
   "execution_count": 3,
   "metadata": {},
   "outputs": [],
   "source": [
    "browser = webdriver.Firefox()\n",
    "url = 'https://cs.deals/fi/market/csgo/?sort=discount&sort_desc=1'\n",
    "browser.get(url)\n",
    "browser.implicitly_wait(0.5)\n",
    "time.sleep(10)\n",
    "html = browser.page_source\n",
    "soup = BeautifulSoup(html, features=\"html.parser\")\n",
    "courts_list = soup.find_all(\"div\", class_ = \"item csgo\")\n",
    "#print(courts_list)\n",
    "browser.close()"
   ]
  },
  {
   "cell_type": "code",
   "execution_count": 4,
   "metadata": {},
   "outputs": [
    {
     "name": "stdout",
     "output_type": "stream",
     "text": [
      "['Revolution Case', 0.27, -35.71]\n",
      "['M4A1-S | Printstream (Battle-Scarred)', 85.0, -30.71]\n",
      "['Revolver Case', 1.29, -29.12]\n",
      "['Operation Breakout Weapon Case', 4.82, -27.95]\n",
      "['Operation Breakout Weapon Case', 4.82, -27.95]\n",
      "['Desert Eagle | Printstream (Battle-Scarred)', 23.0, -27.74]\n",
      "['M4A4 | Desolate Space (Battle-Scarred)', 3.43, -27.48]\n",
      "['★ Moto Gloves | Smoke Out (Field-Tested)', 138.99, -27.36]\n",
      "['M4A1-S | Hyper Beast (Well-Worn)', 13.16, -26.85]\n",
      "['Desert Eagle | Printstream (Field-Tested)', 32.43, -26.71]\n",
      "['MP9 | Hypnotic (Factory New)', 8.34, -26.26]\n",
      "['Glock-18 | Vogue (Minimal Wear)', 4.41, -26.01]\n",
      "['M4A1-S | Nightmare (Field-Tested)', 8.81, -25.72]\n",
      "['Desert Eagle | Printstream (Battle-Scarred)', 23.63, -25.76]\n",
      "['Glock-18 | Candy Apple (Factory New)', 0.61, -24.69]\n",
      "['AWP | Atheris (Minimal Wear)', 4.87, -25.31]\n",
      "['AK-47 | Redline (Field-Tested)', 16.22, -25.18]\n",
      "['Kilowatt Case', 1.68, -25.0]\n",
      "['Desert Eagle | Code Red (Well-Worn)', 14.55, -24.85]\n",
      "['★ Huntsman Knife | Autotronic (Field-Tested)', 183.47, -24.8]\n",
      "['★ Nomad Knife | Boreal Forest (Field-Tested)', 138.99, -24.73]\n",
      "['AK-47 | Slate (Minimal Wear)', 3.71, -24.29]\n",
      "['★ Hand Wraps | Constrictor (Field-Tested)', 64.86, -24.22]\n",
      "['Glock-18 | Gamma Doppler (Field-Tested)', 38.93, -24.2]\n",
      "['P250 | Asiimov (Well-Worn)', 2.0, -24.24]\n",
      "['Prof. Shahmat | Elite Crew', 2.51, -23.71]\n",
      "['Kilowatt Case', 1.71, -23.66]\n",
      "['Desert Eagle | Code Red (Well-Worn)', 14.83, -23.4]\n",
      "['StatTrak™ AK-47 | Ice Coaled (Field-Tested)', 11.13, -23.19]\n",
      "['AK-47 | Redline (Field-Tested)', 16.69, -23.02]\n",
      "['AK-47 | Redline (Field-Tested)', 16.69, -23.02]\n",
      "['SSG 08 | Turbo Peek (Field-Tested)', 3.9, -22.47]\n",
      "['USP-S | Kill Confirmed (Well-Worn)', 32.43, -22.42]\n",
      "['AWP | Atheris (Battle-Scarred)', 1.7, -21.66]\n",
      "['AWP | Asiimov (Field-Tested)', 115.83, -20.89]\n",
      "['AK-47 | Redline (Field-Tested)', 17.18, -20.76]\n",
      "['AWP | Redline (Field-Tested)', 39.38, -20.15]\n",
      "['M4A1-S | Guardian (Field-Tested)', 18.09, -20.13]\n",
      "['★ Hydra Gloves | Mangrove (Field-Tested)', 48.19, -19.96]\n",
      "['★ Sport Gloves | Scarlet Shamagh (Well-Worn)', 222.38, -19.89]\n",
      "['M4A4 | 龍王 (Dragon King) (Minimal Wear)', 11.97, -19.77]\n",
      "['AWP | Wildfire (Minimal Wear)', 78.76, -19.54]\n",
      "['Glove Case', 4.73, -18.45]\n",
      "['Glove Case', 4.73, -18.45]\n",
      "['Glove Case', 4.73, -18.45]\n",
      "['★ StatTrak™ Huntsman Knife | Lore (Field-Tested)', 215.0, -18.38]\n",
      "['★ Ursus Knife | Crimson Web (Battle-Scarred)', 176.05, -17.56]\n",
      "['★ StatTrak™ Navaja Knife | Stained (Minimal Wear)', 111.0, -15.4]\n",
      "['StatTrak™ XM1014 | Entombed (Minimal Wear)', 7.8, -14.1]\n",
      "['StatTrak™ M4A4 | Neo-Noir (Battle-Scarred)', 11.99, -11.97]\n",
      "['Desert Eagle | Code Red (Battle-Scarred)', 15.79, -11.94]\n",
      "['StatTrak™ Music Kit | KILL SCRIPT, All Night', 6.49, -10.48]\n",
      "['StatTrak™ AK-47 | Legion of Anubis (Factory New)', 60.0, -10.33]\n",
      "['Revolver Case', 1.64, -9.89]\n",
      "['StatTrak™ USP-S | Jawbreaker (Field-Tested)', 28.44, -6.14]\n",
      "['MAC-10 | Disco Tech (Well-Worn)', 2.0, -4.31]\n",
      "['★ StatTrak™ Huntsman Knife | Bright Water (Factory New)', 180.16, -4.07]\n",
      "['AWP | Chrome Cannon (Minimal Wear)', 130.0, -3.43]\n"
     ]
    }
   ],
   "source": [
    "# Create a list of 100 first items ordered by discount\n",
    "# [name, price, discount]\n",
    "complete_list = []\n",
    "str_courts_list = str(courts_list)\n",
    "\n",
    "# Add item discounts to the list\n",
    "discounts_list = re.findall(\"\\\"discount\\\">(.*?)%</span>\", str_courts_list)\n",
    "discounts_list_rdy = []\n",
    "for discount in discounts_list:\n",
    "    if discount != \"?\":\n",
    "        i_float = float(discount) # Discounts are needed in float\n",
    "        discounts_list_rdy.append(i_float)\n",
    "\n",
    "# Add item prices to the list\n",
    "prices_list = re.findall(\"(price\\\">|small\\\">)(.*?)€\", str_courts_list)\n",
    "prices_list_rdy = []\n",
    "for j,prices in prices_list:\n",
    "    prices_changed = prices.replace(\",\",\"\")\n",
    "    prices_changed2 = prices_changed.replace(\" \", \"\")\n",
    "    prices_list_rdy.append(float(prices_changed2)) # Prices are also needed in float\n",
    "\n",
    "# Add item names to the list\n",
    "names_list_rdy = re.findall(\"<img alt=\\\"(.*?)\\\"\", str_courts_list)\n",
    "for name in names_list_rdy:\n",
    "    if name == \"CSGO\":\n",
    "        names_list_rdy.remove(name)\n",
    "    elif name == \"sticker\":\n",
    "        names_list_rdy.remove(name)\n",
    "\n",
    "# Combine all lists\n",
    "for row in range(len(discounts_list_rdy)):\n",
    "    complete_list.append([names_list_rdy[row], prices_list_rdy[row], discounts_list_rdy[row]])\n",
    "\n",
    "for item in complete_list:\n",
    "    print(item)\n"
   ]
  },
  {
   "cell_type": "code",
   "execution_count": 5,
   "metadata": {},
   "outputs": [
    {
     "name": "stdout",
     "output_type": "stream",
     "text": [
      "['M4A1-S | Printstream (Battle-Scarred)', 85.0, -30.71]\n"
     ]
    }
   ],
   "source": [
    "# Categorize the interesting items\n",
    "interesting_list = []\n",
    "for item in complete_list:\n",
    "    if item[1] > 5 and item[2] <= -30: # Interested in high enough price and low enough discount\n",
    "        interesting_list.append(item)\n",
    "\n",
    "for i in interesting_list:\n",
    "    print(i)"
   ]
  },
  {
   "cell_type": "code",
   "execution_count": 10,
   "metadata": {},
   "outputs": [],
   "source": [
    "bot_token = api_key\n",
    "bot_chatID = chat_id\n",
    "if interesting_list != None:\n",
    "   send_intro = 'https://api.telegram.org/bot' + bot_token + '/sendMessage?chat_id=' + bot_chatID + '&parse_mode=Markdown&text=' + \"name, price, discount\"\n",
    "   response = requests.get(send_intro)\n",
    "   for i in interesting_list:\n",
    "      send_text = 'https://api.telegram.org/bot' + bot_token + '/sendMessage?chat_id=' + bot_chatID + '&parse_mode=Markdown&text=' + str(i)\n",
    "      response = requests.get(send_text)"
   ]
  }
 ],
 "metadata": {
  "kernelspec": {
   "display_name": "Python 3",
   "language": "python",
   "name": "python3"
  },
  "language_info": {
   "codemirror_mode": {
    "name": "ipython",
    "version": 3
   },
   "file_extension": ".py",
   "mimetype": "text/x-python",
   "name": "python",
   "nbconvert_exporter": "python",
   "pygments_lexer": "ipython3",
   "version": "3.11.8"
  }
 },
 "nbformat": 4,
 "nbformat_minor": 2
}
